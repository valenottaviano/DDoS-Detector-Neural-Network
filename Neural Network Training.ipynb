{
 "cells": [
  {
   "cell_type": "markdown",
   "id": "9995b586",
   "metadata": {},
   "source": [
    "## Import Relevant Libraries"
   ]
  },
  {
   "cell_type": "code",
   "execution_count": 1,
   "id": "617eeadd",
   "metadata": {},
   "outputs": [
    {
     "name": "stderr",
     "output_type": "stream",
     "text": [
      "2022-03-21 13:11:15.626644: W tensorflow/stream_executor/platform/default/dso_loader.cc:64] Could not load dynamic library 'libcudart.so.11.0'; dlerror: libcudart.so.11.0: cannot open shared object file: No such file or directory\n",
      "2022-03-21 13:11:15.626669: I tensorflow/stream_executor/cuda/cudart_stub.cc:29] Ignore above cudart dlerror if you do not have a GPU set up on your machine.\n"
     ]
    }
   ],
   "source": [
    "import os\n",
    "import pandas as pd\n",
    "import numpy as np\n",
    "from keras.models import Sequential\n",
    "from keras.layers import Dense\n",
    "import matplotlib.pyplot as plt\n",
    "import pandas as pd\n"
   ]
  },
  {
   "cell_type": "markdown",
   "id": "e1ec5e18",
   "metadata": {},
   "source": [
    "## Parse Log file"
   ]
  },
  {
   "cell_type": "code",
   "execution_count": 19,
   "id": "446f1664",
   "metadata": {},
   "outputs": [
    {
     "name": "stdout",
     "output_type": "stream",
     "text": [
      "Log successfully parsed!\n"
     ]
    }
   ],
   "source": [
    "def choose_log_file():\n",
    "    data = list()\n",
    "    for i in range(3):\n",
    "        filename = f'./1 - Logs Here/access.log.{i+1}'\n",
    "        file = open(filename, 'r')\n",
    "        lines = file.read().splitlines()\n",
    "        file.close()\n",
    "        for line in lines:\n",
    "            if not line:\n",
    "                continue\n",
    "            substring = '\"-\"'\n",
    "            columns2 = [col.strip() for col in line.split('\"-\"') if col]\n",
    "            while substring in columns2:\n",
    "                columns2 = [col.strip() for col in columns2.split('\"-\"') if col]\n",
    "            impData = columns2[0]\n",
    "            impData2 = [col.strip() for col in impData.split(' - - ')]\n",
    "            try:\n",
    "                testString = impData2[1].split('\"')\n",
    "            except:\n",
    "                continue\n",
    "            date = testString[0].strip(' ')\n",
    "            request = testString[1]\n",
    "            requestResponseCode = testString[2].split(' ')\n",
    "\n",
    "            try:\n",
    "                requestResponseCodeShortened = requestResponseCode[1]\n",
    "            except:\n",
    "                requestResponseCodeShortened = np.nan\n",
    "\n",
    "            if requestResponseCodeShortened == '200' or requestResponseCodeShortened == '201' or requestResponseCodeShortened == '202':\n",
    "                columnToAdd = '0'\n",
    "            else:\n",
    "                columnToAdd = '1'\n",
    "            data.append([impData2[0],date,request,requestResponseCodeShortened,columnToAdd])\n",
    "        print('Log successfully parsed!')\n",
    "\n",
    "        df = pd.DataFrame(data=data)\n",
    "        return np.array(data), df\n",
    "\n",
    "dataset, df = choose_log_file()"
   ]
  },
  {
   "cell_type": "code",
   "execution_count": 20,
   "id": "a06e014a",
   "metadata": {},
   "outputs": [
    {
     "data": {
      "text/html": [
       "<div>\n",
       "<style scoped>\n",
       "    .dataframe tbody tr th:only-of-type {\n",
       "        vertical-align: middle;\n",
       "    }\n",
       "\n",
       "    .dataframe tbody tr th {\n",
       "        vertical-align: top;\n",
       "    }\n",
       "\n",
       "    .dataframe thead th {\n",
       "        text-align: right;\n",
       "    }\n",
       "</style>\n",
       "<table border=\"1\" class=\"dataframe\">\n",
       "  <thead>\n",
       "    <tr style=\"text-align: right;\">\n",
       "      <th></th>\n",
       "      <th>0</th>\n",
       "      <th>1</th>\n",
       "      <th>2</th>\n",
       "      <th>3</th>\n",
       "      <th>4</th>\n",
       "    </tr>\n",
       "  </thead>\n",
       "  <tbody>\n",
       "    <tr>\n",
       "      <th>0</th>\n",
       "      <td>66.249.67.197</td>\n",
       "      <td>[18/Jul/2011:03:35:52 -0500]</td>\n",
       "      <td>GET /robots.txt HTTP/1.1</td>\n",
       "      <td>404</td>\n",
       "      <td>1</td>\n",
       "    </tr>\n",
       "    <tr>\n",
       "      <th>1</th>\n",
       "      <td>66.249.68.227</td>\n",
       "      <td>[18/Jul/2011:03:35:52 -0500]</td>\n",
       "      <td>GET / HTTP/1.1</td>\n",
       "      <td>200</td>\n",
       "      <td>0</td>\n",
       "    </tr>\n",
       "    <tr>\n",
       "      <th>2</th>\n",
       "      <td>123.125.71.32</td>\n",
       "      <td>[18/Jul/2011:04:51:01 -0500]</td>\n",
       "      <td>GET / HTTP/1.1</td>\n",
       "      <td>200</td>\n",
       "      <td>0</td>\n",
       "    </tr>\n",
       "    <tr>\n",
       "      <th>3</th>\n",
       "      <td>123.125.71.20</td>\n",
       "      <td>[18/Jul/2011:04:51:15 -0500]</td>\n",
       "      <td>GET /?C=D;O=A HTTP/1.1</td>\n",
       "      <td>200</td>\n",
       "      <td>0</td>\n",
       "    </tr>\n",
       "    <tr>\n",
       "      <th>4</th>\n",
       "      <td>123.125.71.13</td>\n",
       "      <td>[18/Jul/2011:04:51:21 -0500]</td>\n",
       "      <td>GET /log/ HTTP/1.1</td>\n",
       "      <td>200</td>\n",
       "      <td>0</td>\n",
       "    </tr>\n",
       "    <tr>\n",
       "      <th>...</th>\n",
       "      <td>...</td>\n",
       "      <td>...</td>\n",
       "      <td>...</td>\n",
       "      <td>...</td>\n",
       "      <td>...</td>\n",
       "    </tr>\n",
       "    <tr>\n",
       "      <th>481689</th>\n",
       "      <td>77.173.51.242</td>\n",
       "      <td>[10/Jan/2014:12:21:17 -0600]</td>\n",
       "      <td>GET / HTTP/1.1</td>\n",
       "      <td>200</td>\n",
       "      <td>0</td>\n",
       "    </tr>\n",
       "    <tr>\n",
       "      <th>481690</th>\n",
       "      <td>208.94.145.109</td>\n",
       "      <td>[10/Jan/2014:12:21:19 -0600]</td>\n",
       "      <td>HEAD / HTTP/1.1</td>\n",
       "      <td>200</td>\n",
       "      <td>0</td>\n",
       "    </tr>\n",
       "    <tr>\n",
       "      <th>481691</th>\n",
       "      <td>66.249.66.164</td>\n",
       "      <td>[10/Jan/2014:12:22:33 -0600]</td>\n",
       "      <td>GET /docs/ijpp/Angelett.pdf HTTP/1.1</td>\n",
       "      <td>200</td>\n",
       "      <td>0</td>\n",
       "    </tr>\n",
       "    <tr>\n",
       "      <th>481692</th>\n",
       "      <td>81.100.51.75</td>\n",
       "      <td>[10/Jan/2014:12:33:28 -0600]</td>\n",
       "      <td>GET /docs/ijpp/Philo_Courage.pdf HTTP/1.1</td>\n",
       "      <td>200</td>\n",
       "      <td>0</td>\n",
       "    </tr>\n",
       "    <tr>\n",
       "      <th>481693</th>\n",
       "      <td>81.100.51.75</td>\n",
       "      <td>[10/Jan/2014:12:33:28 -0600]</td>\n",
       "      <td>GET /favicon.ico HTTP/1.1</td>\n",
       "      <td>200</td>\n",
       "      <td>0</td>\n",
       "    </tr>\n",
       "  </tbody>\n",
       "</table>\n",
       "<p>481694 rows × 5 columns</p>\n",
       "</div>"
      ],
      "text/plain": [
       "                     0                             1  \\\n",
       "0        66.249.67.197  [18/Jul/2011:03:35:52 -0500]   \n",
       "1        66.249.68.227  [18/Jul/2011:03:35:52 -0500]   \n",
       "2        123.125.71.32  [18/Jul/2011:04:51:01 -0500]   \n",
       "3        123.125.71.20  [18/Jul/2011:04:51:15 -0500]   \n",
       "4        123.125.71.13  [18/Jul/2011:04:51:21 -0500]   \n",
       "...                ...                           ...   \n",
       "481689   77.173.51.242  [10/Jan/2014:12:21:17 -0600]   \n",
       "481690  208.94.145.109  [10/Jan/2014:12:21:19 -0600]   \n",
       "481691   66.249.66.164  [10/Jan/2014:12:22:33 -0600]   \n",
       "481692    81.100.51.75  [10/Jan/2014:12:33:28 -0600]   \n",
       "481693    81.100.51.75  [10/Jan/2014:12:33:28 -0600]   \n",
       "\n",
       "                                                2    3  4  \n",
       "0                        GET /robots.txt HTTP/1.1  404  1  \n",
       "1                                  GET / HTTP/1.1  200  0  \n",
       "2                                  GET / HTTP/1.1  200  0  \n",
       "3                          GET /?C=D;O=A HTTP/1.1  200  0  \n",
       "4                              GET /log/ HTTP/1.1  200  0  \n",
       "...                                           ...  ... ..  \n",
       "481689                             GET / HTTP/1.1  200  0  \n",
       "481690                            HEAD / HTTP/1.1  200  0  \n",
       "481691       GET /docs/ijpp/Angelett.pdf HTTP/1.1  200  0  \n",
       "481692  GET /docs/ijpp/Philo_Courage.pdf HTTP/1.1  200  0  \n",
       "481693                  GET /favicon.ico HTTP/1.1  200  0  \n",
       "\n",
       "[481694 rows x 5 columns]"
      ]
     },
     "execution_count": 20,
     "metadata": {},
     "output_type": "execute_result"
    }
   ],
   "source": [
    "df"
   ]
  },
  {
   "cell_type": "code",
   "execution_count": 21,
   "id": "6868b68b",
   "metadata": {},
   "outputs": [
    {
     "data": {
      "text/plain": [
       "(481693, 5)"
      ]
     },
     "execution_count": 21,
     "metadata": {},
     "output_type": "execute_result"
    }
   ],
   "source": [
    "df.columns = ['IP', 'Datetime', 'Request', 'StatusCode', 'Target']\n",
    "df = df.dropna()\n",
    "df.shape"
   ]
  },
  {
   "cell_type": "markdown",
   "id": "dd15a8c4",
   "metadata": {},
   "source": [
    "### Save Training Dataset into CSV (Optional)"
   ]
  },
  {
   "cell_type": "code",
   "execution_count": null,
   "id": "41fc4511",
   "metadata": {},
   "outputs": [],
   "source": [
    "df.to_csv('./training_dataset.csv')"
   ]
  },
  {
   "cell_type": "markdown",
   "id": "2767a9a3",
   "metadata": {},
   "source": [
    "## Data Modeling"
   ]
  },
  {
   "cell_type": "markdown",
   "id": "df3803f8",
   "metadata": {},
   "source": [
    "### Split dataset into classes and target"
   ]
  },
  {
   "cell_type": "code",
   "execution_count": 22,
   "id": "f4366306",
   "metadata": {},
   "outputs": [
    {
     "name": "stdout",
     "output_type": "stream",
     "text": [
      "(481693, 4)\n",
      "(481693,)\n"
     ]
    }
   ],
   "source": [
    "x = df.values[:,0:4]\n",
    "y = df.values[:,4]\n",
    "df.values[:,3:5] = df.values[:,3:5].astype(str)\n",
    "print(x.shape)\n",
    "print(y.shape)"
   ]
  },
  {
   "cell_type": "markdown",
   "id": "9d06d3d7",
   "metadata": {},
   "source": [
    "### One hot encoding for classes"
   ]
  },
  {
   "cell_type": "code",
   "execution_count": 23,
   "id": "70d6960d",
   "metadata": {},
   "outputs": [],
   "source": [
    "#encode the x dataset\n",
    "# Get unique classes (encuentra los elementos unicos en el array).\n",
    "x_dataset_base = x\n",
    "y_dataset_base = y\n",
    "x_dataset_ips = x_dataset_base[:,0]\n",
    "x_dataset_dates = x_dataset_base[:,1]\n",
    "uniqueValues = np.unique(x_dataset_ips)\n",
    "classes = np.unique(x)\n",
    "#for value in x_dataset_ips:\n",
    "\n",
    "# Replace classes with integers.\n",
    "x = np.searchsorted(classes, x)\n",
    "inputColumnQuantityVariables = len(x[0])\n",
    "\n",
    "#encode the y dataset\n",
    "y = np.array(y.astype(int))"
   ]
  },
  {
   "cell_type": "markdown",
   "id": "969da673",
   "metadata": {},
   "source": [
    "## Model"
   ]
  },
  {
   "cell_type": "markdown",
   "id": "4175c75c",
   "metadata": {},
   "source": [
    "### Define Sequential Model"
   ]
  },
  {
   "cell_type": "code",
   "execution_count": 25,
   "id": "64c90645",
   "metadata": {},
   "outputs": [
    {
     "name": "stdout",
     "output_type": "stream",
     "text": [
      "Model: \"sequential_2\"\n",
      "_________________________________________________________________\n",
      " Layer (type)                Output Shape              Param #   \n",
      "=================================================================\n",
      " dense_14 (Dense)            (None, 12)                60        \n",
      "                                                                 \n",
      " dense_15 (Dense)            (None, 10)                130       \n",
      "                                                                 \n",
      " dense_16 (Dense)            (None, 8)                 88        \n",
      "                                                                 \n",
      " dense_17 (Dense)            (None, 6)                 54        \n",
      "                                                                 \n",
      " dense_18 (Dense)            (None, 4)                 28        \n",
      "                                                                 \n",
      " dense_19 (Dense)            (None, 4)                 20        \n",
      "                                                                 \n",
      " dense_20 (Dense)            (None, 1)                 5         \n",
      "                                                                 \n",
      "=================================================================\n",
      "Total params: 385\n",
      "Trainable params: 385\n",
      "Non-trainable params: 0\n",
      "_________________________________________________________________\n",
      "None\n",
      "Epoch 1/30\n",
      "7708/7708 [==============================] - 9s 1ms/step - loss: 0.5034 - accuracy: 0.8407 - val_loss: 0.3039 - val_accuracy: 0.9207\n",
      "Epoch 2/30\n",
      "7708/7708 [==============================] - 9s 1ms/step - loss: 0.4383 - accuracy: 0.8408 - val_loss: 0.3037 - val_accuracy: 0.9207\n",
      "Epoch 3/30\n",
      "7708/7708 [==============================] - 9s 1ms/step - loss: 0.4384 - accuracy: 0.8408 - val_loss: 0.3082 - val_accuracy: 0.9207\n",
      "Epoch 4/30\n",
      "7708/7708 [==============================] - 9s 1ms/step - loss: 0.4384 - accuracy: 0.8408 - val_loss: 0.3039 - val_accuracy: 0.9207\n",
      "Epoch 5/30\n",
      "7708/7708 [==============================] - 9s 1ms/step - loss: 0.4383 - accuracy: 0.8408 - val_loss: 0.3058 - val_accuracy: 0.9207\n",
      "Epoch 6/30\n",
      "7708/7708 [==============================] - 8s 1ms/step - loss: 0.4384 - accuracy: 0.8408 - val_loss: 0.3015 - val_accuracy: 0.9207\n",
      "Epoch 7/30\n",
      "7708/7708 [==============================] - 8s 1ms/step - loss: 0.4384 - accuracy: 0.8408 - val_loss: 0.3093 - val_accuracy: 0.9207\n",
      "Epoch 8/30\n",
      "7708/7708 [==============================] - 8s 1ms/step - loss: 0.4384 - accuracy: 0.8408 - val_loss: 0.3005 - val_accuracy: 0.9207\n",
      "Epoch 9/30\n",
      "7708/7708 [==============================] - 9s 1ms/step - loss: 0.4384 - accuracy: 0.8408 - val_loss: 0.3073 - val_accuracy: 0.9207\n",
      "Epoch 10/30\n",
      "7708/7708 [==============================] - 9s 1ms/step - loss: 0.4384 - accuracy: 0.8408 - val_loss: 0.3058 - val_accuracy: 0.9207\n",
      "Epoch 11/30\n",
      "7708/7708 [==============================] - 9s 1ms/step - loss: 0.4384 - accuracy: 0.8408 - val_loss: 0.3082 - val_accuracy: 0.9207\n",
      "Epoch 12/30\n",
      "7708/7708 [==============================] - 8s 1ms/step - loss: 0.4383 - accuracy: 0.8408 - val_loss: 0.3023 - val_accuracy: 0.9207\n",
      "Epoch 13/30\n",
      "7708/7708 [==============================] - 8s 1ms/step - loss: 0.4384 - accuracy: 0.8408 - val_loss: 0.3048 - val_accuracy: 0.9207\n",
      "Epoch 14/30\n",
      "7708/7708 [==============================] - 8s 1ms/step - loss: 0.4384 - accuracy: 0.8408 - val_loss: 0.3069 - val_accuracy: 0.9207\n",
      "Epoch 15/30\n",
      "7708/7708 [==============================] - 8s 1ms/step - loss: 0.4383 - accuracy: 0.8408 - val_loss: 0.3079 - val_accuracy: 0.9207\n",
      "Epoch 16/30\n",
      "7708/7708 [==============================] - 8s 1ms/step - loss: 0.4384 - accuracy: 0.8408 - val_loss: 0.3056 - val_accuracy: 0.9207\n",
      "Epoch 17/30\n",
      "7708/7708 [==============================] - 8s 1ms/step - loss: 0.4384 - accuracy: 0.8408 - val_loss: 0.3059 - val_accuracy: 0.9207\n",
      "Epoch 18/30\n",
      "7708/7708 [==============================] - 8s 1ms/step - loss: 0.4383 - accuracy: 0.8408 - val_loss: 0.3030 - val_accuracy: 0.9207\n",
      "Epoch 19/30\n",
      "7708/7708 [==============================] - 8s 1ms/step - loss: 0.4384 - accuracy: 0.8408 - val_loss: 0.3038 - val_accuracy: 0.9207\n",
      "Epoch 20/30\n",
      "7708/7708 [==============================] - 8s 1ms/step - loss: 0.4384 - accuracy: 0.8408 - val_loss: 0.3075 - val_accuracy: 0.9207\n",
      "Epoch 21/30\n",
      "7708/7708 [==============================] - 8s 1ms/step - loss: 0.4384 - accuracy: 0.8408 - val_loss: 0.2999 - val_accuracy: 0.9207\n",
      "Epoch 22/30\n",
      "7708/7708 [==============================] - 8s 1ms/step - loss: 0.4383 - accuracy: 0.8408 - val_loss: 0.3060 - val_accuracy: 0.9207\n",
      "Epoch 23/30\n",
      "7708/7708 [==============================] - 8s 1ms/step - loss: 0.4383 - accuracy: 0.8408 - val_loss: 0.3045 - val_accuracy: 0.9207\n",
      "Epoch 24/30\n",
      "7708/7708 [==============================] - 8s 1ms/step - loss: 0.4383 - accuracy: 0.8408 - val_loss: 0.3035 - val_accuracy: 0.9207\n",
      "Epoch 25/30\n",
      "7708/7708 [==============================] - 8s 1ms/step - loss: 0.4383 - accuracy: 0.8408 - val_loss: 0.3048 - val_accuracy: 0.9207\n",
      "Epoch 26/30\n",
      "7708/7708 [==============================] - 8s 1ms/step - loss: 0.4384 - accuracy: 0.8408 - val_loss: 0.3082 - val_accuracy: 0.9207\n",
      "Epoch 27/30\n",
      "7708/7708 [==============================] - 9s 1ms/step - loss: 0.4384 - accuracy: 0.8408 - val_loss: 0.3053 - val_accuracy: 0.9207\n",
      "Epoch 28/30\n",
      "7708/7708 [==============================] - 9s 1ms/step - loss: 0.4384 - accuracy: 0.8408 - val_loss: 0.3071 - val_accuracy: 0.9207\n",
      "Epoch 29/30\n",
      "7708/7708 [==============================] - 9s 1ms/step - loss: 0.4383 - accuracy: 0.8408 - val_loss: 0.3086 - val_accuracy: 0.9207\n",
      "Epoch 30/30\n",
      "7708/7708 [==============================] - 9s 1ms/step - loss: 0.4384 - accuracy: 0.8408 - val_loss: 0.3076 - val_accuracy: 0.9207\n"
     ]
    }
   ],
   "source": [
    "#  define the keras model\n",
    "model = Sequential()\n",
    "model.add(Dense(12, input_dim=inputColumnQuantityVariables, activation='relu'))\n",
    "model.add(Dense(10, activation='relu'))\n",
    "model.add(Dense(8, activation= 'relu'))\n",
    "model.add(Dense(6, activation= 'relu'))\n",
    "model.add(Dense(4, activation= 'relu'))\n",
    "model.add(Dense(4, activation= 'relu'))\n",
    "model.add(Dense(1, activation='sigmoid'))\n",
    "print(model.summary())\n",
    "\n",
    "# compile the keras model\n",
    "model.compile(loss='binary_crossentropy', optimizer='adam', metrics=['accuracy'])\n",
    "history = model.fit(x, y, epochs=30, batch_size=50, validation_split=0.2)\n"
   ]
  },
  {
   "cell_type": "code",
   "execution_count": 26,
   "id": "eca1599a",
   "metadata": {},
   "outputs": [
    {
     "data": {
      "image/png": "[encoded data removed]",
      "text/plain": [
       "<Figure size 432x288 with 1 Axes>"
      ]
     },
     "metadata": {
      "needs_background": "light"
     },
     "output_type": "display_data"
    },
    {
     "data": {
      "image/png": "[encoded data removed]",
      "text/plain": [
       "<Figure size 432x288 with 1 Axes>"
      ]
     },
     "metadata": {
      "needs_background": "light"
     },
     "output_type": "display_data"
    },
    {
     "data": {
      "image/png": "[encoded data removed]",
      "text/plain": [
       "<Figure size 432x288 with 1 Axes>"
      ]
     },
     "metadata": {
      "needs_background": "light"
     },
     "output_type": "display_data"
    }
   ],
   "source": [
    "# summarize history for accuracy\n",
    "plt.plot(history.history['accuracy'])\n",
    "plt.title('model accuracy')\n",
    "plt.ylabel('accuracy')\n",
    "plt.xlabel('epoch')\n",
    "plt.legend(['train'], loc='upper left')\n",
    "plt.show()\n",
    "\n",
    "# summarize history for loss\n",
    "plt.plot(history.history['loss'])\n",
    "plt.title('model loss')\n",
    "plt.ylabel('loss')\n",
    "plt.xlabel('epoch')\n",
    "plt.legend(['train'], loc='upper left')\n",
    "plt.show()\n",
    "\n",
    "# summarize history for loss\n",
    "plt.plot(history.history['val_loss'])\n",
    "plt.title('val loss')\n",
    "plt.ylabel('loss')\n",
    "plt.xlabel('epoch')\n",
    "plt.legend(['train'], loc='upper left')\n",
    "plt.show()"
   ]
  },
  {
   "cell_type": "code",
   "execution_count": 27,
   "id": "de4a742e",
   "metadata": {},
   "outputs": [
    {
     "name": "stdout",
     "output_type": "stream",
     "text": [
      "15053/15053 [==============================] - 12s 776us/step - loss: 0.4122 - accuracy: 0.8568\n",
      "Accuracy: 85.68\n"
     ]
    }
   ],
   "source": [
    "# evaluate the keras model\n",
    "_, accuracy = model.evaluate(x, y)\n",
    "print('Accuracy: %.2f' % (accuracy*100))"
   ]
  },
  {
   "cell_type": "code",
   "execution_count": 32,
   "id": "528f4d6f",
   "metadata": {},
   "outputs": [],
   "source": [
    "model.save('./model.h5')"
   ]
  }
 ],
 "metadata": {
  "kernelspec": {
   "display_name": "Python 3 (ipykernel)",
   "language": "python",
   "name": "python3"
  },
  "language_info": {
   "codemirror_mode": {
    "name": "ipython",
    "version": 3
   },
   "file_extension": ".py",
   "mimetype": "text/x-python",
   "name": "python",
   "nbconvert_exporter": "python",
   "pygments_lexer": "ipython3",
   "version": "3.10.2"
  }
 },
 "nbformat": 4,
 "nbformat_minor": 5
}
