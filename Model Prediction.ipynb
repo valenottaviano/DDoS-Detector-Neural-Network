{
 "cells": [
  {
   "cell_type": "code",
   "execution_count": 39,
   "id": "fb3466e6",
   "metadata": {},
   "outputs": [],
   "source": [
    "import os\n",
    "import pandas as pd\n",
    "import numpy as np\n",
    "from keras.models import Sequential\n",
    "from keras.layers import Dense\n",
    "import matplotlib.pyplot as plt\n",
    "import pandas as pd\n",
    "import keras as K"
   ]
  },
  {
   "cell_type": "code",
   "execution_count": 46,
   "id": "e238837f",
   "metadata": {},
   "outputs": [],
   "source": [
    "def choose_log_file():\n",
    "    data = list()\n",
    "    filename = f'./1 - Logs Here/test.log.1'\n",
    "    file = open(filename, 'r')\n",
    "    lines = file.read().splitlines()\n",
    "    file.close()\n",
    "    for line in lines:\n",
    "        if not line:\n",
    "            continue\n",
    "        substring = '\"-\"'\n",
    "        columns2 = [col.strip() for col in line.split('\"-\"') if col]\n",
    "        while substring in columns2:\n",
    "            columns2 = [col.strip() for col in columns2.split('\"-\"') if col]\n",
    "        impData = columns2[0]\n",
    "        impData2 = [col.strip() for col in impData.split(' - - ')]\n",
    "        try:\n",
    "            testString = impData2[1].split('\"')\n",
    "        except:\n",
    "            continue\n",
    "        date = testString[0].strip(' ')\n",
    "        request = testString[1]\n",
    "        requestResponseCode = testString[2].split(' ')\n",
    "\n",
    "        try:\n",
    "            requestResponseCodeShortened = requestResponseCode[1]\n",
    "        except:\n",
    "            requestResponseCodeShortened = np.nan\n",
    "\n",
    "        if requestResponseCodeShortened == '200' or requestResponseCodeShortened == '201' or requestResponseCodeShortened == '202':\n",
    "            columnToAdd = '0'\n",
    "        else:\n",
    "            columnToAdd = '1'\n",
    "        data.append([impData2[0],date,request,requestResponseCodeShortened,columnToAdd])\n",
    "    print('Log successfully parsed!')\n",
    "\n",
    "    df = pd.DataFrame(data=data)\n",
    "    df.columns = ['IP', 'Datetime', 'Request', 'StatusCode', 'Target']\n",
    "    df = df.dropna()\n",
    "    return np.array(data), df\n",
    "\n",
    "def split_dataset(df):\n",
    "    x = df.values[:,0:4]\n",
    "    y = df.values[:,4]\n",
    "    df.values[:,3:5] = df.values[:,3:5].astype(str)\n",
    "\n",
    "    #encode the x dataset\n",
    "    # Get unique classes (encuentra los elementos unicos en el array).\n",
    "    x_dataset_base = x\n",
    "    y_dataset_base = y\n",
    "    x_dataset_ips = x_dataset_base[:,0]\n",
    "    x_dataset_dates = x_dataset_base[:,1]\n",
    "    uniqueValues = np.unique(x_dataset_ips)\n",
    "    classes = np.unique(x)\n",
    "    #for value in x_dataset_ips:\n",
    "\n",
    "    # Replace classes with integers.\n",
    "    x = np.searchsorted(classes, x)\n",
    "    inputColumnQuantityVariables = len(x[0])\n",
    "\n",
    "    #encode the y dataset\n",
    "    y = np.array(y.astype(int))\n",
    "\n",
    "    return x, y, x_dataset_ips, x_dataset_dates\n",
    "\n",
    "def predict_attacks()    "
   ]
  },
  {
   "cell_type": "code",
   "execution_count": 47,
   "id": "20561138",
   "metadata": {},
   "outputs": [
    {
     "name": "stdout",
     "output_type": "stream",
     "text": [
      "Log successfully parsed!\n"
     ]
    }
   ],
   "source": [
    "dataset, df = choose_log_file()\n",
    "x, y, x_dataset_ips, x_dataset_dates = split_dataset(df)\n",
    "model = K.models.load_model('./model.h5')\n"
   ]
  },
  {
   "cell_type": "code",
   "execution_count": 42,
   "id": "ca0046c6",
   "metadata": {},
   "outputs": [
    {
     "name": "stdout",
     "output_type": "stream",
     "text": [
      "Model: \"sequential_2\"\n",
      "_________________________________________________________________\n",
      " Layer (type)                Output Shape              Param #   \n",
      "=================================================================\n",
      " dense_14 (Dense)            (None, 12)                60        \n",
      "                                                                 \n",
      " dense_15 (Dense)            (None, 10)                130       \n",
      "                                                                 \n",
      " dense_16 (Dense)            (None, 8)                 88        \n",
      "                                                                 \n",
      " dense_17 (Dense)            (None, 6)                 54        \n",
      "                                                                 \n",
      " dense_18 (Dense)            (None, 4)                 28        \n",
      "                                                                 \n",
      " dense_19 (Dense)            (None, 4)                 20        \n",
      "                                                                 \n",
      " dense_20 (Dense)            (None, 1)                 5         \n",
      "                                                                 \n",
      "=================================================================\n",
      "Total params: 385\n",
      "Trainable params: 385\n",
      "Non-trainable params: 0\n",
      "_________________________________________________________________\n"
     ]
    }
   ],
   "source": []
  },
  {
   "cell_type": "code",
   "execution_count": 43,
   "id": "22ab15f1",
   "metadata": {},
   "outputs": [],
   "source": [
    "predictions = model.predict(x)\n",
    "\n",
    "possible_attack_hosts = []\n",
    "done_values = []\n",
    "bad_requests = 0\n",
    "\n",
    "for i, element in enumerate(x_dataset_ips):\n",
    "    previous_element = x_dataset_ips[i - 1] if i > 0 else None\n",
    "    current_element = element\n",
    "    if current_element != previous_element and current_element not in done_values:\n",
    "        done_values.append(current_element)\n",
    "        times_appeared = np.count_nonzero(x_dataset_ips == current_element)\n",
    "        lines_in = np.array(np.where(x_dataset_ips == current_element))\n",
    "        lines_in_added = np.array([a+1 for a in lines_in])\n",
    "    \n",
    "        possible_attack_hosts.append((current_element,times_appeared))\n",
    "        if times_appeared > 100:\n",
    "#             possible_attack_hosts.append([current_element,times_appeared])\n",
    "            bad_request_dates = []\n",
    "            for line_number in lines_in:\n",
    "                for numb in line_number:\n",
    "                    if predictions[numb] == 1:\n",
    "                        #bad_request_lines = array(numpy.where(predictions == predictions[numb]))\n",
    "                        bad_requests = bad_requests + 1\n",
    "                    #for date in x_dataset_dates:\n",
    "                        bad_request_dates.append(x_dataset_dates[numb])\n",
    "        bad_requests = 0"
   ]
  },
  {
   "cell_type": "code",
   "execution_count": 45,
   "id": "795ca8f4",
   "metadata": {},
   "outputs": [
    {
     "data": {
      "text/plain": [
       "1795"
      ]
     },
     "execution_count": 45,
     "metadata": {},
     "output_type": "execute_result"
    }
   ],
   "source": [
    "len(possible_attack_hosts)"
   ]
  }
 ],
 "metadata": {
  "kernelspec": {
   "display_name": "Python 3 (ipykernel)",
   "language": "python",
   "name": "python3"
  },
  "language_info": {
   "codemirror_mode": {
    "name": "ipython",
    "version": 3
   },
   "file_extension": ".py",
   "mimetype": "text/x-python",
   "name": "python",
   "nbconvert_exporter": "python",
   "pygments_lexer": "ipython3",
   "version": "3.10.2"
  }
 },
 "nbformat": 4,
 "nbformat_minor": 5
}
